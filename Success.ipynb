{
 "cells": [
  {
   "cell_type": "code",
   "execution_count": 1,
   "id": "c42d03bd-97c3-4b42-b2a7-08f817d86f54",
   "metadata": {},
   "outputs": [],
   "source": [
    "import numpy as np\n",
    "import pandas as pd\n",
    "import matplotlib.pyplot as plt\n",
    "import matplotlib as mpl\n",
    "from sklearn.preprocessing import StandardScaler\n",
    "\n",
    "from sklearn.svm import SVC\n",
    "\n",
    "import joblib\n",
    "import streamlit as st\n",
    "import cv2"
   ]
  },
  {
   "cell_type": "code",
   "execution_count": 2,
   "id": "3743ea50-2844-4f35-8b3e-fae67a46cd24",
   "metadata": {},
   "outputs": [],
   "source": [
    "final_model=joblib.load('svc_final_wholedataset.pkl')"
   ]
  },
  {
   "cell_type": "code",
   "execution_count": 5,
   "id": "afdf9790-d895-4df0-b357-cb86b40af366",
   "metadata": {},
   "outputs": [
    {
     "data": {
      "image/png": "[encoded data removed]",
      "text/plain": [
       "<Figure size 640x480 with 1 Axes>"
      ]
     },
     "metadata": {},
     "output_type": "display_data"
    }
   ],
   "source": [
    "scaler = StandardScaler()\n",
    "# Preprocess the image data\n",
    "def preprocess_image(image_path):\n",
    "    img = cv2.imread(image_path, cv2.IMREAD_GRAYSCALE)  # Read the image as grayscale\n",
    "    # Invert colors\n",
    "    inverted_img = 255 - img\n",
    "    img_resized = cv2.resize(inverted_img, (28, 28))  # Resize the image to match MNIST dimensions\n",
    "    blurred_img = cv2.GaussianBlur(img_resized, (3, 3), 4)\n",
    "    img_flat = img_resized.flatten() / 255.0  # Flatten and normalize\n",
    "    img_scaled = scaler.fit_transform(img_flat.reshape(-1, 1)).reshape(1, -1)\n",
    "    return img_scaled, img_resized\n",
    "# Predict function\n",
    "def predict_image(image_path):\n",
    "    img_preprocessed, _ = preprocess_image(image_path)\n",
    "    prediction = final_model.predict(img_preprocessed)\n",
    "    return prediction\n",
    "\n",
    "# Example usage:\n",
    "image_path = \"3 edited.jpg\"  # Replace with the path to your image file\n",
    "prediction = predict_image(image_path)\n",
    "\n",
    "# Display the preprocessed image and prediction\n",
    "img_preprocessed, _ = preprocess_image(image_path)  # Get the preprocessed image\n",
    "plt.imshow(img_preprocessed.reshape(28, 28), cmap='gray')  # Reshape to 28x28 for display\n",
    "plt.title(f\"Predicted Label: {prediction[0]}\")\n",
    "plt.axis('off')\n",
    "plt.show()"
   ]
  },
  {
   "cell_type": "code",
   "execution_count": null,
   "id": "3c85b71f-2801-4cac-aa2e-96eb83f2414f",
   "metadata": {},
   "outputs": [],
   "source": []
  },
  {
   "cell_type": "code",
   "execution_count": null,
   "id": "8d977846-56a5-4d2e-adf7-080dbd2400f3",
   "metadata": {},
   "outputs": [],
   "source": []
  }
 ],
 "metadata": {
  "kernelspec": {
   "display_name": "Python 3 (ipykernel)",
   "language": "python",
   "name": "python3"
  },
  "language_info": {
   "codemirror_mode": {
    "name": "ipython",
    "version": 3
   },
   "file_extension": ".py",
   "mimetype": "text/x-python",
   "name": "python",
   "nbconvert_exporter": "python",
   "pygments_lexer": "ipython3",
   "version": "3.11.7"
  }
 },
 "nbformat": 4,
 "nbformat_minor": 5
}
